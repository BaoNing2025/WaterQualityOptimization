{
 "cells": [
  {
   "cell_type": "code",
   "execution_count": 1,
   "metadata": {},
   "outputs": [
    {
     "name": "stdout",
     "output_type": "stream",
     "text": [
      "已成功生成缓冲区并保存为 Shapefile，坐标系为 EPSG:4326，且保留原始属性。\n"
     ]
    }
   ],
   "source": [
    "from shapely.geometry import LineString, MultiLineString\n",
    "from shapely.ops import substring\n",
    "import geopandas as gpd\n",
    "\n",
    "# 读取合并后的上游河段数据\n",
    "combined_gdf = gpd.read_file('../data/交界-入河口断面的上游段.shp')\n",
    "\n",
    "# 转换为 UTM 坐标系 (EPSG:32650)\n",
    "combined_gdf_utm = combined_gdf.to_crs(epsg=32650)\n",
    "\n",
    "# 为每条线段生成向两侧扩展5000米的平头缓冲区\n",
    "combined_gdf_utm['buffer'] = combined_gdf_utm.geometry.buffer(5000)\n",
    "\n",
    "# 删除原始的 geometry 列，只保留 buffer 列作为几何\n",
    "buffer_gdf = combined_gdf_utm.drop(columns='geometry')\n",
    "\n",
    "# 设置 buffer 列为新的几何列\n",
    "buffer_gdf = gpd.GeoDataFrame(buffer_gdf, geometry='buffer', crs=combined_gdf_utm.crs)\n",
    "\n",
    "# 将缓冲区转换为 EPSG:4326 坐标系\n",
    "buffer_gdf_4326 = buffer_gdf.to_crs(epsg=4326)\n",
    "\n",
    "# 保存为 Shapefile，保留属性字段\n",
    "buffer_gdf_4326.to_file('../data/交界-入河口断面的缓冲区.shp', encoding='utf-8')\n",
    "\n",
    "print(\"已成功生成缓冲区并保存为 Shapefile，坐标系为 EPSG:4326，且保留原始属性。\")\n"
   ]
  }
 ],
 "metadata": {
  "kernelspec": {
   "display_name": "shenduxuexi",
   "language": "python",
   "name": "shenduxuexi"
  },
  "language_info": {
   "codemirror_mode": {
    "name": "ipython",
    "version": 3
   },
   "file_extension": ".py",
   "mimetype": "text/x-python",
   "name": "python",
   "nbconvert_exporter": "python",
   "pygments_lexer": "ipython3",
   "version": "3.9.18"
  }
 },
 "nbformat": 4,
 "nbformat_minor": 2
}
