{
 "cells": [
  {
   "cell_type": "code",
   "execution_count": 1,
   "metadata": {},
   "outputs": [
    {
     "name": "stdout",
     "output_type": "stream",
     "text": [
      "原始坐标参考系: EPSG:4326\n",
      "已转换坐标参考系为UTM Zone 50N: EPSG:32650\n",
      "正在为所有河流生成 5000 米的缓冲区...\n",
      "已将合并后的缓冲区转换回原始坐标参考系: EPSG:4326\n",
      "已成功创建、合并、转换并保存河流沿线的缓冲区。\n"
     ]
    }
   ],
   "source": [
    "import geopandas as gpd\n",
    "\n",
    "# 读取河流矢量数据（Shapefile）\n",
    "river_gdf = gpd.read_file('../data/最新赣江河流.shp')\n",
    "\n",
    "# 检查河流数据的坐标参考系（CRS）\n",
    "original_crs = river_gdf.crs\n",
    "print(f\"原始坐标参考系: {original_crs}\")\n",
    "\n",
    "# 转换河流数据为投影坐标系（例如UTM Zone 50N）\n",
    "if river_gdf.crs.is_geographic:\n",
    "    river_gdf = river_gdf.to_crs(epsg=32650)\n",
    "    print(f\"已转换坐标参考系为UTM Zone 50N: {river_gdf.crs}\")\n",
    "\n",
    "# 设置统一的缓冲区大小为5000米\n",
    "buffer_distance = 5000\n",
    "\n",
    "# 为所有河流段创建5000米的缓冲区\n",
    "print(f\"正在为所有河流生成 {buffer_distance} 米的缓冲区...\")\n",
    "buffer_gdf = river_gdf.copy()  # 复制原始GeoDataFrame\n",
    "buffer_gdf['geometry'] = buffer_gdf.geometry.buffer(buffer_distance)\n",
    "\n",
    "# 合并所有缓冲区为一个单一的几何对象\n",
    "merged_buffer = buffer_gdf.unary_union\n",
    "\n",
    "# 将合并后的缓冲区转换为GeoDataFrame\n",
    "merged_buffer_gdf = gpd.GeoDataFrame(geometry=[merged_buffer], crs=buffer_gdf.crs)\n",
    "\n",
    "# 将缓冲区结果转换回原始坐标系\n",
    "merged_buffer_gdf = merged_buffer_gdf.to_crs(original_crs)\n",
    "print(f\"已将合并后的缓冲区转换回原始坐标参考系: {merged_buffer_gdf.crs}\")\n",
    "\n",
    "# 可选：将缓冲区结果保存到Shapefile\n",
    "merged_buffer_gdf.to_file('../data/赣江河流统一缓冲区.shp')\n",
    "\n",
    "print(\"已成功创建、合并、转换并保存河流沿线的缓冲区。\")\n"
   ]
  }
 ],
 "metadata": {
  "kernelspec": {
   "display_name": "shenduxuexi",
   "language": "python",
   "name": "shenduxuexi"
  },
  "language_info": {
   "codemirror_mode": {
    "name": "ipython",
    "version": 3
   },
   "file_extension": ".py",
   "mimetype": "text/x-python",
   "name": "python",
   "nbconvert_exporter": "python",
   "pygments_lexer": "ipython3",
   "version": "3.9.18"
  }
 },
 "nbformat": 4,
 "nbformat_minor": 2
}
